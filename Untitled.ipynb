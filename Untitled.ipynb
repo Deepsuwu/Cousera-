{
 "cells": [
  {
   "cell_type": "markdown",
   "id": "b3e41684",
   "metadata": {},
   "source": [
    "##### Data Science Tools and EcoSystem"
   ]
  },
  {
   "cell_type": "markdown",
   "id": "a7e76429",
   "metadata": {},
   "source": [
    "Here we have introduced the different data science tools and the ecosystems"
   ]
  },
  {
   "cell_type": "markdown",
   "id": "620dc8c4",
   "metadata": {},
   "source": [
    "The Data Science Languages are -\n",
    "1. Python \n",
    "2. Scala \n",
    "3. SQL \n",
    "4. R"
   ]
  },
  {
   "cell_type": "markdown",
   "id": "a083a542",
   "metadata": {},
   "source": [
    "Different data science Libraries are-\n",
    "1. Pandas\n",
    "2. NumPy\n",
    "3. Apache Spark"
   ]
  },
  {
   "cell_type": "markdown",
   "id": "008748a9",
   "metadata": {},
   "source": [
    "|Data Science Tools|\n",
    "|----------------------------|\n",
    "| Anaconda |\n",
    "|Jupyter Notebook|\n",
    "|R Studio|"
   ]
  },
  {
   "cell_type": "code",
   "execution_count": 5,
   "id": "79d94c29",
   "metadata": {},
   "outputs": [
    {
     "name": "stdout",
     "output_type": "stream",
     "text": [
      "10\n"
     ]
    }
   ],
   "source": [
    "## adding integers\n",
    "x=5\n",
    "y=5\n",
    "z= x+y\n",
    "print (z)\n"
   ]
  },
  {
   "cell_type": "code",
   "execution_count": 6,
   "id": "7b5e4caa",
   "metadata": {},
   "outputs": [
    {
     "name": "stdout",
     "output_type": "stream",
     "text": [
      "2.0\n"
     ]
    }
   ],
   "source": [
    "## convert mins to hours\n",
    "mins= 120 \n",
    "hours = mins/60\n",
    "print (hours)"
   ]
  },
  {
   "cell_type": "markdown",
   "id": "4aa35756",
   "metadata": {},
   "source": [
    "Objectives of this course \n",
    "*  Learn about different data tools \n",
    "*  Learn about Jupyter Notebook\n",
    "*  Learn Markdown \n",
    "*  Learn Python \n",
    "*  Learn about Diffterent Data Tools\n"
   ]
  },
  {
   "cell_type": "markdown",
   "id": "151ca80f",
   "metadata": {},
   "source": [
    "###### AUTHORS \n",
    "DEEPASREE DAS\n"
   ]
  },
  {
   "cell_type": "code",
   "execution_count": null,
   "id": "e7ea78b6",
   "metadata": {},
   "outputs": [],
   "source": []
  }
 ],
 "metadata": {
  "kernelspec": {
   "display_name": "Python 3 (ipykernel)",
   "language": "python",
   "name": "python3"
  },
  "language_info": {
   "codemirror_mode": {
    "name": "ipython",
    "version": 3
   },
   "file_extension": ".py",
   "mimetype": "text/x-python",
   "name": "python",
   "nbconvert_exporter": "python",
   "pygments_lexer": "ipython3",
   "version": "3.11.5"
  }
 },
 "nbformat": 4,
 "nbformat_minor": 5
}
